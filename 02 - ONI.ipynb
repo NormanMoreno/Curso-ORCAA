{
 "cells": [
  {
   "cell_type": "code",
   "execution_count": 6,
   "metadata": {},
   "outputs": [],
   "source": [
    "%matplotlib inline\n",
    "import pandas as pd\n",
    "import numpy as np\n",
    "import matplotlib.pyplot as plt"
   ]
  },
  {
   "cell_type": "markdown",
   "metadata": {},
   "source": [
    "#  El Índice Oceánico de El Niño (ONI en inglés)"
   ]
  },
  {
   "cell_type": "markdown",
   "metadata": {
    "lang": "es"
   },
   "source": [
    "## Descargar los datos de internet"
   ]
  },
  {
   "cell_type": "markdown",
   "metadata": {
    "lang": "es"
   },
   "source": [
    "Página web: http://origin.cpc.ncep.noaa.gov/products/analysis_monitoring/ensostuff/ONI_v5.php\n",
    "\n",
    "Datos: https://www.esrl.noaa.gov/psd/data/correlation/oni.data"
   ]
  },
  {
   "cell_type": "markdown",
   "metadata": {
    "lang": "es"
   },
   "source": [
    "### Uso de pandas para descargar los datos de Internet"
   ]
  },
  {
   "cell_type": "code",
   "execution_count": 3,
   "metadata": {},
   "outputs": [
    {
     "data": {
      "text/html": [
       "<div>\n",
       "<style scoped>\n",
       "    .dataframe tbody tr th:only-of-type {\n",
       "        vertical-align: middle;\n",
       "    }\n",
       "\n",
       "    .dataframe tbody tr th {\n",
       "        vertical-align: top;\n",
       "    }\n",
       "\n",
       "    .dataframe thead th {\n",
       "        text-align: right;\n",
       "    }\n",
       "</style>\n",
       "<table border=\"1\" class=\"dataframe\">\n",
       "  <thead>\n",
       "    <tr style=\"text-align: right;\">\n",
       "      <th></th>\n",
       "      <th>0</th>\n",
       "      <th>1</th>\n",
       "      <th>2</th>\n",
       "      <th>3</th>\n",
       "      <th>4</th>\n",
       "      <th>5</th>\n",
       "      <th>6</th>\n",
       "      <th>7</th>\n",
       "      <th>8</th>\n",
       "      <th>9</th>\n",
       "      <th>10</th>\n",
       "      <th>11</th>\n",
       "      <th>12</th>\n",
       "    </tr>\n",
       "  </thead>\n",
       "  <tbody>\n",
       "    <tr>\n",
       "      <th>66</th>\n",
       "      <td>2016</td>\n",
       "      <td>2.53</td>\n",
       "      <td>2.23</td>\n",
       "      <td>1.68</td>\n",
       "      <td>1.03</td>\n",
       "      <td>0.48</td>\n",
       "      <td>-0.00</td>\n",
       "      <td>-0.34</td>\n",
       "      <td>-0.57</td>\n",
       "      <td>-0.68</td>\n",
       "      <td>-0.74</td>\n",
       "      <td>-0.71</td>\n",
       "      <td>-0.56</td>\n",
       "    </tr>\n",
       "    <tr>\n",
       "      <th>67</th>\n",
       "      <td>2017</td>\n",
       "      <td>-0.29</td>\n",
       "      <td>-0.06</td>\n",
       "      <td>0.15</td>\n",
       "      <td>0.29</td>\n",
       "      <td>0.39</td>\n",
       "      <td>0.38</td>\n",
       "      <td>0.16</td>\n",
       "      <td>-0.14</td>\n",
       "      <td>-0.44</td>\n",
       "      <td>-0.70</td>\n",
       "      <td>-0.88</td>\n",
       "      <td>-0.97</td>\n",
       "    </tr>\n",
       "    <tr>\n",
       "      <th>68</th>\n",
       "      <td>2018</td>\n",
       "      <td>-0.87</td>\n",
       "      <td>-0.76</td>\n",
       "      <td>-0.60</td>\n",
       "      <td>-0.41</td>\n",
       "      <td>-0.13</td>\n",
       "      <td>0.06</td>\n",
       "      <td>0.11</td>\n",
       "      <td>0.20</td>\n",
       "      <td>0.43</td>\n",
       "      <td>0.70</td>\n",
       "      <td>0.85</td>\n",
       "      <td>0.81</td>\n",
       "    </tr>\n",
       "    <tr>\n",
       "      <th>69</th>\n",
       "      <td>2019</td>\n",
       "      <td>0.80</td>\n",
       "      <td>0.82</td>\n",
       "      <td>0.81</td>\n",
       "      <td>0.75</td>\n",
       "      <td>0.63</td>\n",
       "      <td>0.52</td>\n",
       "      <td>0.30</td>\n",
       "      <td>0.11</td>\n",
       "      <td>0.13</td>\n",
       "      <td>0.29</td>\n",
       "      <td>0.46</td>\n",
       "      <td>0.55</td>\n",
       "    </tr>\n",
       "    <tr>\n",
       "      <th>70</th>\n",
       "      <td>2020</td>\n",
       "      <td>0.54</td>\n",
       "      <td>0.57</td>\n",
       "      <td>0.49</td>\n",
       "      <td>0.27</td>\n",
       "      <td>-0.01</td>\n",
       "      <td>-0.23</td>\n",
       "      <td>-99.90</td>\n",
       "      <td>-99.90</td>\n",
       "      <td>-99.90</td>\n",
       "      <td>-99.90</td>\n",
       "      <td>-99.90</td>\n",
       "      <td>-99.90</td>\n",
       "    </tr>\n",
       "  </tbody>\n",
       "</table>\n",
       "</div>"
      ],
      "text/plain": [
       "      0     1     2     3     4     5     6      7      8      9      10  \\\n",
       "66  2016  2.53  2.23  1.68  1.03  0.48 -0.00  -0.34  -0.57  -0.68  -0.74   \n",
       "67  2017 -0.29 -0.06  0.15  0.29  0.39  0.38   0.16  -0.14  -0.44  -0.70   \n",
       "68  2018 -0.87 -0.76 -0.60 -0.41 -0.13  0.06   0.11   0.20   0.43   0.70   \n",
       "69  2019  0.80  0.82  0.81  0.75  0.63  0.52   0.30   0.11   0.13   0.29   \n",
       "70  2020  0.54  0.57  0.49  0.27 -0.01 -0.23 -99.90 -99.90 -99.90 -99.90   \n",
       "\n",
       "       11     12  \n",
       "66  -0.71  -0.56  \n",
       "67  -0.88  -0.97  \n",
       "68   0.85   0.81  \n",
       "69   0.46   0.55  \n",
       "70 -99.90 -99.90  "
      ]
     },
     "execution_count": 3,
     "metadata": {},
     "output_type": "execute_result"
    }
   ],
   "source": [
    "oni = pd.read_csv(\"https://www.esrl.noaa.gov/psd/data/correlation/oni.data\", skiprows = 1, skipfooter = 8, header = None, delim_whitespace = True, engine = \"python\")\n",
    "oni.tail()"
   ]
  },
  {
   "cell_type": "code",
   "execution_count": 8,
   "metadata": {},
   "outputs": [],
   "source": [
    "oni.to_csv(\"./data/oni.txt\", index =False)"
   ]
  },
  {
   "cell_type": "code",
   "execution_count": 9,
   "metadata": {},
   "outputs": [
    {
     "data": {
      "text/html": [
       "<div>\n",
       "<style scoped>\n",
       "    .dataframe tbody tr th:only-of-type {\n",
       "        vertical-align: middle;\n",
       "    }\n",
       "\n",
       "    .dataframe tbody tr th {\n",
       "        vertical-align: top;\n",
       "    }\n",
       "\n",
       "    .dataframe thead th {\n",
       "        text-align: right;\n",
       "    }\n",
       "</style>\n",
       "<table border=\"1\" class=\"dataframe\">\n",
       "  <thead>\n",
       "    <tr style=\"text-align: right;\">\n",
       "      <th></th>\n",
       "      <th>0</th>\n",
       "      <th>1</th>\n",
       "      <th>2</th>\n",
       "      <th>3</th>\n",
       "      <th>4</th>\n",
       "      <th>5</th>\n",
       "      <th>6</th>\n",
       "      <th>7</th>\n",
       "      <th>8</th>\n",
       "      <th>9</th>\n",
       "      <th>10</th>\n",
       "      <th>11</th>\n",
       "      <th>12</th>\n",
       "    </tr>\n",
       "  </thead>\n",
       "  <tbody>\n",
       "    <tr>\n",
       "      <th>66</th>\n",
       "      <td>2016</td>\n",
       "      <td>2.53</td>\n",
       "      <td>2.23</td>\n",
       "      <td>1.68</td>\n",
       "      <td>1.03</td>\n",
       "      <td>0.48</td>\n",
       "      <td>-0.00</td>\n",
       "      <td>-0.34</td>\n",
       "      <td>-0.57</td>\n",
       "      <td>-0.68</td>\n",
       "      <td>-0.74</td>\n",
       "      <td>-0.71</td>\n",
       "      <td>-0.56</td>\n",
       "    </tr>\n",
       "    <tr>\n",
       "      <th>67</th>\n",
       "      <td>2017</td>\n",
       "      <td>-0.29</td>\n",
       "      <td>-0.06</td>\n",
       "      <td>0.15</td>\n",
       "      <td>0.29</td>\n",
       "      <td>0.39</td>\n",
       "      <td>0.38</td>\n",
       "      <td>0.16</td>\n",
       "      <td>-0.14</td>\n",
       "      <td>-0.44</td>\n",
       "      <td>-0.70</td>\n",
       "      <td>-0.88</td>\n",
       "      <td>-0.97</td>\n",
       "    </tr>\n",
       "    <tr>\n",
       "      <th>68</th>\n",
       "      <td>2018</td>\n",
       "      <td>-0.87</td>\n",
       "      <td>-0.76</td>\n",
       "      <td>-0.60</td>\n",
       "      <td>-0.41</td>\n",
       "      <td>-0.13</td>\n",
       "      <td>0.06</td>\n",
       "      <td>0.11</td>\n",
       "      <td>0.20</td>\n",
       "      <td>0.43</td>\n",
       "      <td>0.70</td>\n",
       "      <td>0.85</td>\n",
       "      <td>0.81</td>\n",
       "    </tr>\n",
       "    <tr>\n",
       "      <th>69</th>\n",
       "      <td>2019</td>\n",
       "      <td>0.80</td>\n",
       "      <td>0.82</td>\n",
       "      <td>0.81</td>\n",
       "      <td>0.75</td>\n",
       "      <td>0.63</td>\n",
       "      <td>0.52</td>\n",
       "      <td>0.30</td>\n",
       "      <td>0.11</td>\n",
       "      <td>0.13</td>\n",
       "      <td>0.29</td>\n",
       "      <td>0.46</td>\n",
       "      <td>0.55</td>\n",
       "    </tr>\n",
       "    <tr>\n",
       "      <th>70</th>\n",
       "      <td>2020</td>\n",
       "      <td>0.54</td>\n",
       "      <td>0.57</td>\n",
       "      <td>0.49</td>\n",
       "      <td>0.27</td>\n",
       "      <td>-0.01</td>\n",
       "      <td>-0.23</td>\n",
       "      <td>-99.90</td>\n",
       "      <td>-99.90</td>\n",
       "      <td>-99.90</td>\n",
       "      <td>-99.90</td>\n",
       "      <td>-99.90</td>\n",
       "      <td>-99.90</td>\n",
       "    </tr>\n",
       "  </tbody>\n",
       "</table>\n",
       "</div>"
      ],
      "text/plain": [
       "       0     1     2     3     4     5     6      7      8      9     10  \\\n",
       "66  2016  2.53  2.23  1.68  1.03  0.48 -0.00  -0.34  -0.57  -0.68  -0.74   \n",
       "67  2017 -0.29 -0.06  0.15  0.29  0.39  0.38   0.16  -0.14  -0.44  -0.70   \n",
       "68  2018 -0.87 -0.76 -0.60 -0.41 -0.13  0.06   0.11   0.20   0.43   0.70   \n",
       "69  2019  0.80  0.82  0.81  0.75  0.63  0.52   0.30   0.11   0.13   0.29   \n",
       "70  2020  0.54  0.57  0.49  0.27 -0.01 -0.23 -99.90 -99.90 -99.90 -99.90   \n",
       "\n",
       "       11     12  \n",
       "66  -0.71  -0.56  \n",
       "67  -0.88  -0.97  \n",
       "68   0.85   0.81  \n",
       "69   0.46   0.55  \n",
       "70 -99.90 -99.90  "
      ]
     },
     "execution_count": 9,
     "metadata": {},
     "output_type": "execute_result"
    }
   ],
   "source": [
    "oni = pd.read_csv(\"./data/oni.txt\")\n",
    "oni.tail()"
   ]
  },
  {
   "cell_type": "markdown",
   "metadata": {
    "lang": "es"
   },
   "source": [
    "## Limpieza de datos"
   ]
  },
  {
   "cell_type": "code",
   "execution_count": 10,
   "metadata": {},
   "outputs": [
    {
     "data": {
      "text/html": [
       "<div>\n",
       "<style scoped>\n",
       "    .dataframe tbody tr th:only-of-type {\n",
       "        vertical-align: middle;\n",
       "    }\n",
       "\n",
       "    .dataframe tbody tr th {\n",
       "        vertical-align: top;\n",
       "    }\n",
       "\n",
       "    .dataframe thead th {\n",
       "        text-align: right;\n",
       "    }\n",
       "</style>\n",
       "<table border=\"1\" class=\"dataframe\">\n",
       "  <thead>\n",
       "    <tr style=\"text-align: right;\">\n",
       "      <th></th>\n",
       "      <th>0</th>\n",
       "      <th>1</th>\n",
       "      <th>2</th>\n",
       "      <th>3</th>\n",
       "      <th>4</th>\n",
       "      <th>5</th>\n",
       "      <th>6</th>\n",
       "      <th>7</th>\n",
       "      <th>8</th>\n",
       "      <th>9</th>\n",
       "      <th>10</th>\n",
       "      <th>11</th>\n",
       "      <th>12</th>\n",
       "    </tr>\n",
       "  </thead>\n",
       "  <tbody>\n",
       "    <tr>\n",
       "      <th>66</th>\n",
       "      <td>2016</td>\n",
       "      <td>2.53</td>\n",
       "      <td>2.23</td>\n",
       "      <td>1.68</td>\n",
       "      <td>1.03</td>\n",
       "      <td>0.48</td>\n",
       "      <td>-0.00</td>\n",
       "      <td>-0.34</td>\n",
       "      <td>-0.57</td>\n",
       "      <td>-0.68</td>\n",
       "      <td>-0.74</td>\n",
       "      <td>-0.71</td>\n",
       "      <td>-0.56</td>\n",
       "    </tr>\n",
       "    <tr>\n",
       "      <th>67</th>\n",
       "      <td>2017</td>\n",
       "      <td>-0.29</td>\n",
       "      <td>-0.06</td>\n",
       "      <td>0.15</td>\n",
       "      <td>0.29</td>\n",
       "      <td>0.39</td>\n",
       "      <td>0.38</td>\n",
       "      <td>0.16</td>\n",
       "      <td>-0.14</td>\n",
       "      <td>-0.44</td>\n",
       "      <td>-0.70</td>\n",
       "      <td>-0.88</td>\n",
       "      <td>-0.97</td>\n",
       "    </tr>\n",
       "    <tr>\n",
       "      <th>68</th>\n",
       "      <td>2018</td>\n",
       "      <td>-0.87</td>\n",
       "      <td>-0.76</td>\n",
       "      <td>-0.60</td>\n",
       "      <td>-0.41</td>\n",
       "      <td>-0.13</td>\n",
       "      <td>0.06</td>\n",
       "      <td>0.11</td>\n",
       "      <td>0.20</td>\n",
       "      <td>0.43</td>\n",
       "      <td>0.70</td>\n",
       "      <td>0.85</td>\n",
       "      <td>0.81</td>\n",
       "    </tr>\n",
       "    <tr>\n",
       "      <th>69</th>\n",
       "      <td>2019</td>\n",
       "      <td>0.80</td>\n",
       "      <td>0.82</td>\n",
       "      <td>0.81</td>\n",
       "      <td>0.75</td>\n",
       "      <td>0.63</td>\n",
       "      <td>0.52</td>\n",
       "      <td>0.30</td>\n",
       "      <td>0.11</td>\n",
       "      <td>0.13</td>\n",
       "      <td>0.29</td>\n",
       "      <td>0.46</td>\n",
       "      <td>0.55</td>\n",
       "    </tr>\n",
       "    <tr>\n",
       "      <th>70</th>\n",
       "      <td>2020</td>\n",
       "      <td>0.54</td>\n",
       "      <td>0.57</td>\n",
       "      <td>0.49</td>\n",
       "      <td>0.27</td>\n",
       "      <td>-0.01</td>\n",
       "      <td>-0.23</td>\n",
       "      <td>NaN</td>\n",
       "      <td>NaN</td>\n",
       "      <td>NaN</td>\n",
       "      <td>NaN</td>\n",
       "      <td>NaN</td>\n",
       "      <td>NaN</td>\n",
       "    </tr>\n",
       "  </tbody>\n",
       "</table>\n",
       "</div>"
      ],
      "text/plain": [
       "       0     1     2     3     4     5     6     7     8     9    10    11  \\\n",
       "66  2016  2.53  2.23  1.68  1.03  0.48 -0.00 -0.34 -0.57 -0.68 -0.74 -0.71   \n",
       "67  2017 -0.29 -0.06  0.15  0.29  0.39  0.38  0.16 -0.14 -0.44 -0.70 -0.88   \n",
       "68  2018 -0.87 -0.76 -0.60 -0.41 -0.13  0.06  0.11  0.20  0.43  0.70  0.85   \n",
       "69  2019  0.80  0.82  0.81  0.75  0.63  0.52  0.30  0.11  0.13  0.29  0.46   \n",
       "70  2020  0.54  0.57  0.49  0.27 -0.01 -0.23   NaN   NaN   NaN   NaN   NaN   \n",
       "\n",
       "      12  \n",
       "66 -0.56  \n",
       "67 -0.97  \n",
       "68  0.81  \n",
       "69  0.55  \n",
       "70   NaN  "
      ]
     },
     "execution_count": 10,
     "metadata": {},
     "output_type": "execute_result"
    }
   ],
   "source": [
    "oni = oni.replace(-99.90, np.nan)\n",
    "oni.tail()"
   ]
  },
  {
   "cell_type": "markdown",
   "metadata": {
    "lang": "es"
   },
   "source": [
    "## Formato ancho a largo"
   ]
  },
  {
   "cell_type": "code",
   "execution_count": 12,
   "metadata": {},
   "outputs": [
    {
     "data": {
      "text/html": [
       "<div>\n",
       "<style scoped>\n",
       "    .dataframe tbody tr th:only-of-type {\n",
       "        vertical-align: middle;\n",
       "    }\n",
       "\n",
       "    .dataframe tbody tr th {\n",
       "        vertical-align: top;\n",
       "    }\n",
       "\n",
       "    .dataframe thead th {\n",
       "        text-align: right;\n",
       "    }\n",
       "</style>\n",
       "<table border=\"1\" class=\"dataframe\">\n",
       "  <thead>\n",
       "    <tr style=\"text-align: right;\">\n",
       "      <th></th>\n",
       "      <th>0</th>\n",
       "      <th>Mes</th>\n",
       "      <th>ONI</th>\n",
       "    </tr>\n",
       "  </thead>\n",
       "  <tbody>\n",
       "    <tr>\n",
       "      <th>847</th>\n",
       "      <td>2016</td>\n",
       "      <td>12</td>\n",
       "      <td>-0.56</td>\n",
       "    </tr>\n",
       "    <tr>\n",
       "      <th>848</th>\n",
       "      <td>2017</td>\n",
       "      <td>12</td>\n",
       "      <td>-0.97</td>\n",
       "    </tr>\n",
       "    <tr>\n",
       "      <th>849</th>\n",
       "      <td>2018</td>\n",
       "      <td>12</td>\n",
       "      <td>0.81</td>\n",
       "    </tr>\n",
       "    <tr>\n",
       "      <th>850</th>\n",
       "      <td>2019</td>\n",
       "      <td>12</td>\n",
       "      <td>0.55</td>\n",
       "    </tr>\n",
       "    <tr>\n",
       "      <th>851</th>\n",
       "      <td>2020</td>\n",
       "      <td>12</td>\n",
       "      <td>NaN</td>\n",
       "    </tr>\n",
       "  </tbody>\n",
       "</table>\n",
       "</div>"
      ],
      "text/plain": [
       "        0 Mes   ONI\n",
       "847  2016  12 -0.56\n",
       "848  2017  12 -0.97\n",
       "849  2018  12  0.81\n",
       "850  2019  12  0.55\n",
       "851  2020  12   NaN"
      ]
     },
     "execution_count": 12,
     "metadata": {},
     "output_type": "execute_result"
    }
   ],
   "source": [
    "oni_dis = pd.melt (oni, id_vars= \"0\", value_name= \"ONI\", var_name=\"Mes\")\n",
    "oni_dis.tail()"
   ]
  },
  {
   "cell_type": "markdown",
   "metadata": {
    "lang": "es"
   },
   "source": [
    "## Añadir columna de fecha"
   ]
  },
  {
   "cell_type": "code",
   "execution_count": 33,
   "metadata": {},
   "outputs": [],
   "source": [
    "oni_dis[\"Fecha\"]= oni_dis.apply(lambda x: pd.to_datetime(str(x[0]) +\"-\"+ str (x[\"Mes\"])).to_period(\"M\"), axis=1)\n"
   ]
  },
  {
   "cell_type": "markdown",
   "metadata": {
    "lang": "es"
   },
   "source": [
    "## Subconjunto del conjunto de datos"
   ]
  },
  {
   "cell_type": "code",
   "execution_count": 38,
   "metadata": {},
   "outputs": [
    {
     "data": {
      "text/html": [
       "<div>\n",
       "<style scoped>\n",
       "    .dataframe tbody tr th:only-of-type {\n",
       "        vertical-align: middle;\n",
       "    }\n",
       "\n",
       "    .dataframe tbody tr th {\n",
       "        vertical-align: top;\n",
       "    }\n",
       "\n",
       "    .dataframe thead th {\n",
       "        text-align: right;\n",
       "    }\n",
       "</style>\n",
       "<table border=\"1\" class=\"dataframe\">\n",
       "  <thead>\n",
       "    <tr style=\"text-align: right;\">\n",
       "      <th></th>\n",
       "      <th>ONI</th>\n",
       "    </tr>\n",
       "    <tr>\n",
       "      <th>Fecha</th>\n",
       "      <th></th>\n",
       "    </tr>\n",
       "  </thead>\n",
       "  <tbody>\n",
       "    <tr>\n",
       "      <th>1950-01</th>\n",
       "      <td>-1.53</td>\n",
       "    </tr>\n",
       "    <tr>\n",
       "      <th>1950-02</th>\n",
       "      <td>-1.34</td>\n",
       "    </tr>\n",
       "    <tr>\n",
       "      <th>1950-03</th>\n",
       "      <td>-1.16</td>\n",
       "    </tr>\n",
       "    <tr>\n",
       "      <th>1950-04</th>\n",
       "      <td>-1.18</td>\n",
       "    </tr>\n",
       "    <tr>\n",
       "      <th>1950-05</th>\n",
       "      <td>-1.07</td>\n",
       "    </tr>\n",
       "  </tbody>\n",
       "</table>\n",
       "</div>"
      ],
      "text/plain": [
       "          ONI\n",
       "Fecha        \n",
       "1950-01 -1.53\n",
       "1950-02 -1.34\n",
       "1950-03 -1.16\n",
       "1950-04 -1.18\n",
       "1950-05 -1.07"
      ]
     },
     "execution_count": 38,
     "metadata": {},
     "output_type": "execute_result"
    }
   ],
   "source": [
    "oni  = oni_dis [[\"Fecha\", \"ONI\"]].sort_values (\"Fecha\").set_index(\"Fecha\")\n",
    "oni.head()"
   ]
  },
  {
   "cell_type": "code",
   "execution_count": 39,
   "metadata": {},
   "outputs": [
    {
     "data": {
      "text/html": [
       "<div>\n",
       "<style scoped>\n",
       "    .dataframe tbody tr th:only-of-type {\n",
       "        vertical-align: middle;\n",
       "    }\n",
       "\n",
       "    .dataframe tbody tr th {\n",
       "        vertical-align: top;\n",
       "    }\n",
       "\n",
       "    .dataframe thead th {\n",
       "        text-align: right;\n",
       "    }\n",
       "</style>\n",
       "<table border=\"1\" class=\"dataframe\">\n",
       "  <thead>\n",
       "    <tr style=\"text-align: right;\">\n",
       "      <th></th>\n",
       "      <th>ONI</th>\n",
       "    </tr>\n",
       "    <tr>\n",
       "      <th>Fecha</th>\n",
       "      <th></th>\n",
       "    </tr>\n",
       "  </thead>\n",
       "  <tbody>\n",
       "    <tr>\n",
       "      <th>1995-01</th>\n",
       "      <td>0.96</td>\n",
       "    </tr>\n",
       "    <tr>\n",
       "      <th>1995-02</th>\n",
       "      <td>0.72</td>\n",
       "    </tr>\n",
       "    <tr>\n",
       "      <th>1995-03</th>\n",
       "      <td>0.53</td>\n",
       "    </tr>\n",
       "    <tr>\n",
       "      <th>1995-04</th>\n",
       "      <td>0.30</td>\n",
       "    </tr>\n",
       "    <tr>\n",
       "      <th>1995-05</th>\n",
       "      <td>0.14</td>\n",
       "    </tr>\n",
       "    <tr>\n",
       "      <th>...</th>\n",
       "      <td>...</td>\n",
       "    </tr>\n",
       "    <tr>\n",
       "      <th>2019-08</th>\n",
       "      <td>0.11</td>\n",
       "    </tr>\n",
       "    <tr>\n",
       "      <th>2019-09</th>\n",
       "      <td>0.13</td>\n",
       "    </tr>\n",
       "    <tr>\n",
       "      <th>2019-10</th>\n",
       "      <td>0.29</td>\n",
       "    </tr>\n",
       "    <tr>\n",
       "      <th>2019-11</th>\n",
       "      <td>0.46</td>\n",
       "    </tr>\n",
       "    <tr>\n",
       "      <th>2019-12</th>\n",
       "      <td>0.55</td>\n",
       "    </tr>\n",
       "  </tbody>\n",
       "</table>\n",
       "<p>300 rows × 1 columns</p>\n",
       "</div>"
      ],
      "text/plain": [
       "          ONI\n",
       "Fecha        \n",
       "1995-01  0.96\n",
       "1995-02  0.72\n",
       "1995-03  0.53\n",
       "1995-04  0.30\n",
       "1995-05  0.14\n",
       "...       ...\n",
       "2019-08  0.11\n",
       "2019-09  0.13\n",
       "2019-10  0.29\n",
       "2019-11  0.46\n",
       "2019-12  0.55\n",
       "\n",
       "[300 rows x 1 columns]"
      ]
     },
     "execution_count": 39,
     "metadata": {},
     "output_type": "execute_result"
    }
   ],
   "source": [
    "oni = oni[\"1995\":\"2019\"]\n",
    "oni"
   ]
  },
  {
   "cell_type": "markdown",
   "metadata": {
    "lang": "es"
   },
   "source": [
    "## Trazar los datos"
   ]
  },
  {
   "cell_type": "code",
   "execution_count": 40,
   "metadata": {},
   "outputs": [
    {
     "data": {
      "image/png": "[encoded data removed]",
      "text/plain": [
       "<Figure size 936x288 with 1 Axes>"
      ]
     },
     "metadata": {
      "needs_background": "light"
     },
     "output_type": "display_data"
    }
   ],
   "source": [
    "fig, ax = plt.subplots (figsize = (13,4))\n",
    "oni.plot (ax= ax, color =\"K\")\n",
    "ax. fill_between (oni.index, 0.5, oni.ONI, where=oni.ONI>=0.5, color=\"red\", label=\"El Niño\", interpolate= True)\n",
    "ax. fill_between (oni.index, -0.5, oni.ONI, where= oni.ONI<=-0.5, color = \"blue\", label= \"La Niña\", interpolate= True)\n",
    "ax.grid()\n",
    "ax.legend()\n",
    "ax.set_ylim (-3,3)\n",
    "ax.set_title (\"Indice Oceánico del Niño (ONI)\", size=14)\n",
    "ax.axvline (\"2012-8\", color =\"green\", linestyle =\"dashed\");\n"
   ]
  },
  {
   "cell_type": "markdown",
   "metadata": {
    "lang": "es"
   },
   "source": [
    "## Refactorización del código"
   ]
  },
  {
   "cell_type": "code",
   "execution_count": null,
   "metadata": {},
   "outputs": [],
   "source": []
  },
  {
   "cell_type": "code",
   "execution_count": null,
   "metadata": {},
   "outputs": [],
   "source": []
  },
  {
   "cell_type": "code",
   "execution_count": null,
   "metadata": {},
   "outputs": [],
   "source": []
  },
  {
   "cell_type": "code",
   "execution_count": null,
   "metadata": {},
   "outputs": [],
   "source": []
  },
  {
   "cell_type": "code",
   "execution_count": null,
   "metadata": {},
   "outputs": [],
   "source": []
  },
  {
   "cell_type": "code",
   "execution_count": null,
   "metadata": {},
   "outputs": [],
   "source": []
  }
 ],
 "metadata": {
  "kernelspec": {
   "display_name": "Python 3",
   "language": "python",
   "name": "python3"
  },
  "language_info": {
   "codemirror_mode": {
    "name": "ipython",
    "version": 3
   },
   "file_extension": ".py",
   "mimetype": "text/x-python",
   "name": "python",
   "nbconvert_exporter": "python",
   "pygments_lexer": "ipython3",
   "version": "3.8.3"
  },
  "nbTranslate": {
   "displayLangs": [
    "es"
   ],
   "hotkey": "alt-t",
   "langInMainMenu": true,
   "sourceLang": "en",
   "targetLang": "es",
   "useGoogleTranslate": true
  }
 },
 "nbformat": 4,
 "nbformat_minor": 4
}
