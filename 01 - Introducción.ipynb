{
 "cells": [
  {
   "cell_type": "markdown",
   "metadata": {
    "lang": "es"
   },
   "source": [
    "# Introducción"
   ]
  },
  {
   "cell_type": "markdown",
   "metadata": {
    "lang": "es"
   },
   "source": [
    "## Objetivo del análisis"
   ]
  },
  {
   "cell_type": "markdown",
   "metadata": {},
   "source": [
    "<img src=\"./animación/Análisis.gif\">"
   ]
  },
  {
   "cell_type": "markdown",
   "metadata": {
    "lang": "es"
   },
   "source": [
    "## Fuentes de datos"
   ]
  },
  {
   "cell_type": "markdown",
   "metadata": {
    "lang": "es"
   },
   "source": [
    "* ### [Misión de medición de las precipitaciones tropicales](https://en.wikipedia.org/wiki/Tropical_Rainfall_Measuring_Mission)\n",
    "\n",
    "\n",
    "Nombre corto: TRMM_3B43   \n",
    "Longname: TRMM (TMPA/3B43) Estimación de lluvia L3 1 mes 0.25 grado x 0.25 grado V7   \n",
    "Cobertura espacial: -180.0, -50.0, 180.0, 50.0   \n",
    "Cobertura temporal: 1998-01-01 hasta el presente   \n",
    "Tamaño del archivo: 4.9 MB por archivo   \n",
    "Resolución de datos   \n",
    "Espaciales: 0.25 ° $\\times$ 0.25 ° $\\approx$ 110 $\\times$ 111 km   \n",
    "Temporal: 1 mes   \n",
    "\n",
    "Fuente: [NASA](https://disc.gsfc.nasa.gov/datasets/TRMM_3B43_V7/summary)"
   ]
  },
  {
   "cell_type": "markdown",
   "metadata": {
    "lang": "es"
   },
   "source": [
    "La __Misión de Medición de Lluvia Tropical (TRMM)__ es una misión satelital conjunta de EE. UU. Y Japón para monitorear la precipitación tropical y subtropical y estimar su calentamiento latente asociado.\n",
    "\n",
    "Los instrumentos de medición de la precipitación en el satélite TRMM incluyen el __Radar de precipitación (PR)__, un radar de exploración electrónica que opera a 13.8 GHz; __Imagen de microondas TRMM (TMI)__, un radiómetro de microondas pasivo __de nueve canales__; y __Escáner visible e infrarrojo (VIRS)__, un __radiómetro visible / infrarrojo de cinco canales__.\n",
    "\n",
    "El propósito del __algoritmo 3B43__ es producir la mejor estimación de la precipitación (en mm / h) y las estimaciones de error de precipitación de raíz cuadrada (RMS) de TRMM y otras fuentes de datos. El algoritmo combina múltiples estimaciones independientes de precipitación del TMI, Radiómetro de barrido avanzado para sistemas de observación de la Tierra (AMSR-E), Sensor especial de microondas (SSMI), Sensor especial de microondas y sonda (SSMIS), Unidad avanzada de sondeo de microondas (AMSU) , Sonda de Humedad de Microondas (MHS), geo-infrarrojo (IR) fusionado ajustado en microondas, y el análisis de pluviómetro Global Precipitation Climatology Center (GPCC) acumulado mensual. Todos los datos de microondas de entrada se intercalibran a las estimaciones de precipitación del Instrumento Combinado TRMM (TCI) (producto TRMM 3B31); las estimaciones de iIR se calculan usando la coincidencia de histograma de microondas-IR coincidente mensual; luego, los datos faltantes en campos individuales combinados de microondas de 3 horas se llenan con las estimaciones de IR. Después de completar el preprocesamiento, los campos multisatélite de 3 horas se suman para el mes y se combinan con el análisis de indicador mensual utilizando la ponderación de varianza inversa de error para formar la mejor estimación de la tasa de precipitación y estimaciones de error de precipitación RMS. Estas estimaciones cuadriculadas tienen una resolución temporal de mes calendario y una resolución espacial de 0.25 por 0.25 grados. La cobertura espacial se extiende desde 50 grados sur hasta 50 grados latitud norte.\n",
    "\n",
    "Fuente: [NASA](https://mirador.gsfc.nasa.gov/collections/TRMM_3B43__007.shtml)"
   ]
  },
  {
   "cell_type": "markdown",
   "metadata": {
    "lang": "es"
   },
   "source": [
    "* ### [El Índice Oceánico de El Niño (ONI en inglés)](http://origin.cpc.ncep.noaa.gov/products/analysis_monitoring/ensostuff/ONI_v5.php)\n",
    "\n",
    "El Índice Oceánico de El Niño (ONI) es un promedio de ejecución de 3 meses de [__*ERSST.v5* (temperatura reconstruida extendida de la superficie del mar)__](https://www.ncdc.noaa.gov/data-access/marineocean-data/extended-reconstructed-sea-surface-temperature-ersst-v5) anomalías de la temperatura de la superficie del mar (SST) en la __región Niño 3.4__ (5° N-5° S, 120°-170° W)], basado en períodos de base centrados de 30 años actualizados cada 5 años. Los períodos cálido (rojo) y frío (azul) se definen con base en un umbral de +/- 0.5°C cuando el umbral de +/- 0.5°C se cumple durante un mínimo de 5 temporadas consecutivas superpuestas."
   ]
  },
  {
   "cell_type": "markdown",
   "metadata": {
    "lang": "es"
   },
   "source": [
    "#### [Las regiones de El Niño](https://climatedataguide.ucar.edu/climate-data/nino-sst-indices-nino-12-3-34-4-oni-and-tni)\n",
    "\n",
    "Los números de las regiones Niño 1,2,3 y 4 se corresponden con las etiquetas asignadas a las pistas de barco que cruzaron estas regiones."
   ]
  },
  {
   "cell_type": "code",
   "execution_count": null,
   "metadata": {},
   "outputs": [],
   "source": [
    "%matplotlib inline\n",
    "from src import helper_func as hf\n",
    "hf.plot_nino_regions()"
   ]
  },
  {
   "cell_type": "markdown",
   "metadata": {
    "lang": "es"
   },
   "source": [
    "* __Niño 1 + 2 (0-10S, 90W-80W) __: La región Niño 1 + 2 es la más pequeña y la más oriental de las regiones SST del Niño, y corresponde con la región de la costa de Sudamérica donde El Niño era primero reconocido por las poblaciones locales.\n",
    "* __Niño 3 (5N-5S, 150W-90W)__: esta región fue una vez el foco principal para monitorear y predecir El Niño. \n",
    "* __Niño 3.4 (5N-5S, 170W-120W)__: Se puede pensar que las anomalías de El Niño 3.4 representan las TSM ecuatoriales promedio a lo largo del Pacífico desde aproximadamente la línea de la fecha hasta la costa de América del Sur.\n",
    "* __Niño 4 (5N-5S, 160E-150W)__: El índice Niño 4 captura las anomalías de la TSM en el Pacífico ecuatorial central."
   ]
  },
  {
   "cell_type": "markdown",
   "metadata": {
    "lang": "es"
   },
   "source": [
    "### Descarga de datos"
   ]
  },
  {
   "cell_type": "markdown",
   "metadata": {},
   "source": [
    "* [ONI](http://origin.cpc.ncep.noaa.gov/products/analysis_monitoring/ensostuff/ONI_v5.php)\n",
    "* [TRMM_3B43: TRMM (TMPA/3B43) Rainfall Estimate L3 1 month 0.25 degree x 0.25 degree V7](https://disc.gsfc.nasa.gov/datasets/TRMM_3B43_V7/summary)"
   ]
  },
  {
   "cell_type": "markdown",
   "metadata": {
    "lang": "es"
   },
   "source": [
    "***\n",
    "\n",
    "## Deberes\n",
    "\n",
    "> * Vaya a Internet y encuentre fuentes de datos alternativas para los datos de TRMM\n",
    "    * Descubre la disponibilidad espacial y temporal\n",
    "    * Descubre qué variables están disponibles\n",
    "* Vaya a Internet y busque publicaciones, que funcionan con conjuntos de datos en grillas de precipitaion.\n"
   ]
  }
 ],
 "metadata": {
  "kernelspec": {
   "display_name": "Python 3",
   "language": "python",
   "name": "python3"
  },
  "language_info": {
   "codemirror_mode": {
    "name": "ipython",
    "version": 3
   },
   "file_extension": ".py",
   "mimetype": "text/x-python",
   "name": "python",
   "nbconvert_exporter": "python",
   "pygments_lexer": "ipython3",
   "version": "3.7.1"
  },
  "nbTranslate": {
   "displayLangs": [
    "es"
   ],
   "hotkey": "alt-t",
   "langInMainMenu": true,
   "sourceLang": "en",
   "targetLang": "es",
   "useGoogleTranslate": true
  }
 },
 "nbformat": 4,
 "nbformat_minor": 2
}
