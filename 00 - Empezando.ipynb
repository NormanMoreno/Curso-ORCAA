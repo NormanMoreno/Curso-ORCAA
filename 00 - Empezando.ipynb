{
 "cells": [
  {
   "cell_type": "markdown",
   "metadata": {},
   "source": [
    "# ORGANIZACIÓN REGULADORA DE LA CALIDAD AMBIENTAL - ORCAA\n",
    "\n",
    "## COORDINACIÓN DE EDUCACIÓN Y PROYECCIÓN / Area de Asesoría Y Capacitación \n",
    "\n",
    "## CURSO: Metodología para Análisis Climático usando Python\n",
    "\n",
    "***"
   ]
  },
  {
   "cell_type": "markdown",
   "metadata": {
    "lang": "es"
   },
   "source": [
    "## Contenido\n",
    "\n",
    "\n",
    "### Parte I: Introducción\n",
    "\n",
    "### Parte II: Índice Oceánico del Niño (Ocean Niño Index)\n",
    "\n",
    "### Parte III: Datos de la Misión de medición de precipitación tropical (Tropical Rainfall Measuring Mission, TRMM)\n",
    "\n",
    "### Parte IV: Preparación de datos TRMM\n",
    "\n",
    "### Parte V: Anomalía mensual de precipitaciones\n",
    "\n",
    "### Parte VI: Visualización\n",
    "\n",
    "***\n"
   ]
  },
  {
   "cell_type": "markdown",
   "metadata": {
    "lang": "es"
   },
   "source": [
    "## Procesamiento de datos"
   ]
  },
  {
   "cell_type": "markdown",
   "metadata": {},
   "source": [
    "* #### Python 3.8 ([Jupyter Notebooks](http://jupyter.org/),  [numpy](http://www.numpy.org/), [pandas](https://pandas.pydata.org/), [xarray](http://xarray.pydata.org/en/stable/) y [matplotlib](https://matplotlib.org/))\n",
    "\n",
    "\n",
    "<img src=\"_img/python_stack.png\" width=70%/>"
   ]
  },
  {
   "cell_type": "markdown",
   "metadata": {},
   "source": [
    "*** "
   ]
  },
  {
   "cell_type": "markdown",
   "metadata": {},
   "source": [
    "# Repositorio on-line en internet\n",
    "## https://github.com/NormanMoreno/Curso-ORCAA \n",
    "\n",
    "[![Binder](https://mybinder.org/badge.svg)](https://mybinder.org/v2/gh/NormanMoreno/curso-ORCAA/master)\n",
    "\n",
    "\n",
    "Para volver a ejecutar el análisis, descargue los materiales del [repositorio en línea](https://github.com/NormanMoreno/curso-ORCAA).\n",
    "\n",
    "Le recomendamos utilizar el administrador de paquetes [conda](https://conda.io/docs/). Una vez instalado, cree un entorno e instale todas las dependencias necesarias en su máquina escribiendo\n",
    "\n",
    "`conda env create -f entorno.yml`\n",
    "\n",
    "en tu consola. Activas tu nuevo entorno tecleando\n",
    "\n",
    "`source activate curso_ORCAA` (en LINUX y Mac) o\n",
    "\n",
    "`activate curso_ORCAA` (en WINDOWS).\n",
    "\n",
    "Entonces estás listo (si estás atascado, echa un vistazo al [sitio de documentación de conda](https://conda.io/docs/user-guide/tasks/manage-environments.html#)). Alternativamente, puede iniciar [binder](https://binderhub.readthedocs.io/en/latest/) para obtener un entorno ejecutable reproducible inmediatamente en su navegador. Simplemente haga clic en el icono [_launch binder_](https://mybinder.org/v2/gh/NormanMoreno/Curso-ORCAA/master).\n",
    "***"
   ]
  },
  {
   "cell_type": "code",
   "execution_count": null,
   "metadata": {},
   "outputs": [],
   "source": []
  }
 ],
 "metadata": {
  "kernelspec": {
   "display_name": "Python 3",
   "language": "python",
   "name": "python3"
  },
  "language_info": {
   "codemirror_mode": {
    "name": "ipython",
    "version": 3
   },
   "file_extension": ".py",
   "mimetype": "text/x-python",
   "name": "python",
   "nbconvert_exporter": "python",
   "pygments_lexer": "ipython3",
   "version": "3.8.3"
  },
  "nbTranslate": {
   "displayLangs": [
    "es"
   ],
   "hotkey": "alt-t",
   "langInMainMenu": true,
   "sourceLang": "en",
   "targetLang": "es",
   "useGoogleTranslate": true
  }
 },
 "nbformat": 4,
 "nbformat_minor": 4
}
